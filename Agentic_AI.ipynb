{
 "cells": [
  {
   "cell_type": "code",
   "execution_count": 5,
   "metadata": {},
   "outputs": [],
   "source": [
    "import os\n",
    "os.environ[\"OPENAI_API_KEY\"] = \"OPENAI API KEY\"\n"
   ]
  },
  {
   "cell_type": "code",
   "execution_count": 113,
   "metadata": {},
   "outputs": [
    {
     "name": "stdout",
     "output_type": "stream",
     "text": [
      "Agent B is here.\n",
      "Ready to help with your needs.\n",
      "How can I assist?\n"
     ]
    }
   ],
   "source": [
    "from swarm import Swarm, Agent, Result\n",
    "\n",
    "\n",
    "client = Swarm()\n",
    "\n",
    "def transfer_to_agent_b():\n",
    "    return agent_b\n",
    "\n",
    "\n",
    "agent_a = Agent(\n",
    "    name=\"Agent A\",\n",
    "    instructions=\"You are a helpful agent.\",\n",
    "    functions=[transfer_to_agent_b],\n",
    ")\n",
    "\n",
    "agent_b = Agent(\n",
    "    name=\"Agent B\",\n",
    "    instructions=\"Only speak in Haikus.\",\n",
    ")\n",
    "\n",
    "response = client.run(\n",
    "    agent=agent_a,\n",
    "    messages=[{\"role\": \"user\", \"content\": \"I want to talk to agent B.\"}],\n",
    ")\n",
    "\n",
    "print(response.messages[-1][\"content\"])"
   ]
  },
  {
   "cell_type": "code",
   "execution_count": 10,
   "metadata": {},
   "outputs": [],
   "source": [
    "agent = Agent(\n",
    "   instructions=\"You are a helpful agent.\"\n",
    ")"
   ]
  },
  {
   "cell_type": "markdown",
   "metadata": {},
   "source": [
    "### here is a problem I change the name with anything except john it doesnot work.\n",
    "#### it worked after 10th iteration. (poor)"
   ]
  },
  {
   "cell_type": "code",
   "execution_count": 26,
   "metadata": {},
   "outputs": [
    {
     "name": "stdout",
     "output_type": "stream",
     "text": [
      "Hrick\n",
      "Hello, Hrick! How can I assist you today?\n"
     ]
    }
   ],
   "source": [
    "def instructions(context_variables):\n",
    "   user_name = context_variables[\"user_name\"]\n",
    "   print(user_name)\n",
    "   return f\"Help the user, {user_name}, do whatever they want.\"\n",
    "\n",
    "agent = Agent(\n",
    "   \n",
    "   instructions=instructions\n",
    ")\n",
    "response = client.run(\n",
    "   agent=agent,\n",
    "   messages=[{\"role\":\"user\", \"content\": \"Hi!\"}],\n",
    "   context_variables={\"user_name\":\"Hrick\"}\n",
    ")\n",
    "print(response.messages[-1][\"content\"])"
   ]
  },
  {
   "cell_type": "code",
   "execution_count": 34,
   "metadata": {},
   "outputs": [
    {
     "name": "stdout",
     "output_type": "stream",
     "text": [
      "Hrick\n",
      "Help the user, Hrick, do whatever they want.\n"
     ]
    }
   ],
   "source": [
    "var = instructions({\"user_name\":\"Hrick\"})\n",
    "print(var)"
   ]
  },
  {
   "cell_type": "code",
   "execution_count": 77,
   "metadata": {},
   "outputs": [
    {
     "name": "stdout",
     "output_type": "stream",
     "text": [
      "Hello, John! How can I assist you with your Python coding today? Whether you need help with a specific problem, want to understand a concept better, or need guidance on a project, feel free to ask!\n"
     ]
    }
   ],
   "source": [
    "def instructions(context_variables):\n",
    "   user_name = context_variables[\"user_name\"]\n",
    "   return f\"Help the user, {user_name}, to write Python code\"\n",
    "\n",
    "agent = Agent(\n",
    "   instructions=instructions\n",
    ")\n",
    "response = client.run(\n",
    "   agent=agent,\n",
    "   messages=[{\"role\":\"user\", \"content\": \"Greet and help\"}],\n",
    "   context_variables={\"user_name\":\"John\"}\n",
    ")\n",
    "print(response.messages[-1][\"content\"])"
   ]
  },
  {
   "cell_type": "code",
   "execution_count": 73,
   "metadata": {},
   "outputs": [
    {
     "name": "stdout",
     "output_type": "stream",
     "text": [
      "messages=[{'content': None, 'role': 'assistant', 'function_call': None, 'tool_calls': [{'id': 'call_nIw2yqfreX53hO6FCB5dxk0B', 'function': {'arguments': '{\"language\":\"English\"}', 'name': 'greet'}, 'type': 'function'}], 'refusal': None, 'sender': 'Agent'}, {'role': 'tool', 'tool_call_id': 'call_nIw2yqfreX53hO6FCB5dxk0B', 'tool_name': 'greet', 'content': 'Done'}, {'content': 'Welcome! How can I assist you today?', 'role': 'assistant', 'function_call': None, 'tool_calls': None, 'refusal': None, 'sender': 'Agent'}] agent=Agent(name='Agent', model='gpt-4o', instructions='You are a helpful agent.', functions=[<function greet at 0x000002B4B8683E20>], tool_choice=None, parallel_tool_calls=True) context_variables={'user_name': 'John'}\n"
     ]
    }
   ],
   "source": [
    "print(response)"
   ]
  },
  {
   "cell_type": "markdown",
   "metadata": {},
   "source": [
    "# Functions"
   ]
  },
  {
   "cell_type": "code",
   "execution_count": 70,
   "metadata": {},
   "outputs": [
    {
     "name": "stdout",
     "output_type": "stream",
     "text": [
      "English\n",
      "Hello, John!\n"
     ]
    }
   ],
   "source": [
    "def greet(context_variables, language):\n",
    "   user_name = context_variables[\"user_name\"]\n",
    "   print(language)\n",
    "   greeting = \"Hola\" if language.lower() == \"spanish\" else \"Hello\"\n",
    "   print(f\"{greeting}, {user_name}!\")\n",
    "   return \"Done\"\n",
    "\n",
    "agent = Agent(\n",
    "   functions=[greet]\n",
    ")\n",
    "\n",
    "response = client.run(\n",
    "   agent=agent,\n",
    "   messages=[{\"role\": \"user\", \"content\": \"use Englisg for welcoming\"}],\n",
    "   context_variables={\"user_name\": \"John\"}\n",
    ")"
   ]
  },
  {
   "cell_type": "code",
   "execution_count": 71,
   "metadata": {},
   "outputs": [
    {
     "name": "stdout",
     "output_type": "stream",
     "text": [
      "messages=[{'content': None, 'role': 'assistant', 'function_call': None, 'tool_calls': [{'id': 'call_nIw2yqfreX53hO6FCB5dxk0B', 'function': {'arguments': '{\"language\":\"English\"}', 'name': 'greet'}, 'type': 'function'}], 'refusal': None, 'sender': 'Agent'}, {'role': 'tool', 'tool_call_id': 'call_nIw2yqfreX53hO6FCB5dxk0B', 'tool_name': 'greet', 'content': 'Done'}, {'content': 'Welcome! How can I assist you today?', 'role': 'assistant', 'function_call': None, 'tool_calls': None, 'refusal': None, 'sender': 'Agent'}] agent=Agent(name='Agent', model='gpt-4o', instructions='You are a helpful agent.', functions=[<function greet at 0x000002B4B8683E20>], tool_choice=None, parallel_tool_calls=True) context_variables={'user_name': 'John'}\n"
     ]
    },
    {
     "data": {
      "text/plain": [
       "(None, swarm.types.Response)"
      ]
     },
     "execution_count": 71,
     "metadata": {},
     "output_type": "execute_result"
    }
   ],
   "source": [
    "print(response),type(response)"
   ]
  },
  {
   "cell_type": "code",
   "execution_count": 72,
   "metadata": {},
   "outputs": [
    {
     "name": "stdout",
     "output_type": "stream",
     "text": [
      "Welcome! How can I assist you today?\n"
     ]
    }
   ],
   "source": [
    "print(response.messages[-1][\"content\"])"
   ]
  },
  {
   "cell_type": "markdown",
   "metadata": {},
   "source": [
    "## Handsoff"
   ]
  },
  {
   "cell_type": "code",
   "execution_count": 103,
   "metadata": {},
   "outputs": [
    {
     "name": "stdout",
     "output_type": "stream",
     "text": [
      "Sales Agent\n"
     ]
    }
   ],
   "source": [
    "sales_agent = Agent(name=\"Sales Agent\")\n",
    "\n",
    "def transfer_to_sales():\n",
    "   return sales_agent\n",
    "\n",
    "agent = Agent(functions=[transfer_to_sales])\n",
    "\n",
    "response = client.run(agent, [{\"role\":\"user\", \"content\":\"Hi, can you transfer to sales\"}]) #this content msg makes a lot of sense, based on this the agent function works.\n",
    "print(response.agent.name)"
   ]
  },
  {
   "cell_type": "markdown",
   "metadata": {},
   "source": [
    "### types of returning fncn\n",
    "\n",
    "## Dont make your own return class, XD XD,\n",
    "\n",
    "## Use this : from swarm.types import (Result)"
   ]
  },
  {
   "cell_type": "code",
   "execution_count": 191,
   "metadata": {},
   "outputs": [],
   "source": [
    "# class Result:\n",
    "\n",
    "#     def __init__(self,value,agent,context_variables):\n",
    "#         self.value = value\n",
    "#         self.agent = agent\n",
    "#         self.context_variables = context_variables\n"
   ]
  },
  {
   "cell_type": "code",
   "execution_count": 195,
   "metadata": {},
   "outputs": [
    {
     "name": "stdout",
     "output_type": "stream",
     "text": [
      "Hello, World!\n",
      "Sales Agent\n",
      "{'user_name': 'John', 'department': 'sales'}\n"
     ]
    }
   ],
   "source": [
    "#this is not working..\n",
    "\n",
    "sales_agent = Agent(name=\"Sales Agent\")\n",
    "\n",
    "def talk_to_sales():\n",
    "   print(\"Hello, World!\")\n",
    "   return Result(\n",
    "       value=\"Done\",\n",
    "       agent=sales_agent,\n",
    "       context_variables={\"department\": \"sales\"}\n",
    "   )\n",
    "\n",
    "agent = Agent(functions=[talk_to_sales])\n",
    "\n",
    "response = client.run(\n",
    "   agent=agent,\n",
    "   messages=[{\"role\": \"user\", \"content\": \"Transfer me to sales\"}],\n",
    "   context_variables={\"user_name\": \"John\"}\n",
    ")\n",
    "print(response.agent.name)\n",
    "print(response.context_variables)"
   ]
  },
  {
   "cell_type": "markdown",
   "metadata": {},
   "source": [
    "test the talk to sales function"
   ]
  },
  {
   "cell_type": "code",
   "execution_count": 190,
   "metadata": {},
   "outputs": [
    {
     "name": "stdout",
     "output_type": "stream",
     "text": [
      "Hello, World!\n"
     ]
    },
    {
     "data": {
      "text/plain": [
       "(Agent(name='Sales Agent', model='gpt-4o', instructions='You are a helpful agent.', functions=[], tool_choice=None, parallel_tool_calls=True),\n",
       " 'Done',\n",
       " {'department': 'sales'})"
      ]
     },
     "execution_count": 190,
     "metadata": {},
     "output_type": "execute_result"
    }
   ],
   "source": [
    "test = talk_to_sales()\n",
    "test.agent,test.value,test.context_variables"
   ]
  },
  {
   "cell_type": "markdown",
   "metadata": {},
   "source": [
    "Trying streeming"
   ]
  },
  {
   "cell_type": "code",
   "execution_count": 131,
   "metadata": {},
   "outputs": [
    {
     "name": "stdout",
     "output_type": "stream",
     "text": [
      "Hello, World!\n",
      "Agent\n",
      "{'user_name': 'John'}\n",
      "('messages', [{'content': None, 'role': 'assistant', 'function_call': None, 'tool_calls': [{'id': 'call_PL3RzN6PWyruvPWYP0aGxpsv', 'function': {'arguments': '{}', 'name': 'talk_to_sales'}, 'type': 'function'}], 'refusal': None, 'sender': 'Agent'}, {'role': 'tool', 'tool_call_id': 'call_PL3RzN6PWyruvPWYP0aGxpsv', 'tool_name': 'talk_to_sales', 'content': '<__main__.Result object at 0x000002B4B7C91100>'}, {'content': \"I've transferred you to sales. How can they assist you today?\", 'role': 'assistant', 'function_call': None, 'tool_calls': None, 'refusal': None, 'sender': 'Agent'}])\n",
      "('agent', Agent(name='Agent', model='gpt-4o', instructions='do whatever the user says to do', functions=[<function talk_to_sales at 0x000002B4B8743B00>], tool_choice=None, parallel_tool_calls=True))\n",
      "('context_variables', {'user_name': 'John'})\n"
     ]
    }
   ],
   "source": [
    "#this is not working.. lets try one more time with streeming\n",
    "\n",
    "sales_agent = Agent(name=\"Sales Agent\")\n",
    "\n",
    "def talk_to_sales():\n",
    "   print(\"Hello, World!\")\n",
    "   return Result(\n",
    "       value=\"Done\",\n",
    "       agent=sales_agent,\n",
    "       context_variables={\"department\": \"sales\"}\n",
    "   )\n",
    "\n",
    "agent = Agent(functions=[talk_to_sales], instructions=\"do whatever the user says to do\")\n",
    "\n",
    "response = client.run(\n",
    "   agent=agent,\n",
    "   messages=[{\"role\": \"user\", \"content\": \"hey can you transfer me to sales?\"}],\n",
    "   context_variables={\"user_name\": \"John\"}\n",
    ")\n",
    "print(response.agent.name)\n",
    "print(response.context_variables)\n",
    "for chunk in response:\n",
    "   print(chunk)"
   ]
  },
  {
   "cell_type": "code",
   "execution_count": 128,
   "metadata": {},
   "outputs": [
    {
     "name": "stdout",
     "output_type": "stream",
     "text": [
      "Hello, James! How can I assist you today?\n",
      "name='Agent' model='gpt-4o' instructions=<function instructions at 0x000002B4B87A45E0> functions=[<function print_account_details at 0x000002B4B827A160>] tool_choice=None parallel_tool_calls=True\n"
     ]
    }
   ],
   "source": [
    "# from swarm import Swarm, Agent\n",
    "\n",
    "# client = Swarm()\n",
    "\n",
    "\n",
    "def instructions(context_variables):\n",
    "    name = context_variables.get(\"name\", \"User\")\n",
    "    return f\"You are a helpful agent. Greet the user by name ({name}).\"\n",
    "\n",
    "\n",
    "def print_account_details(context_variables: dict):\n",
    "    user_id = context_variables.get(\"user_id\", None)\n",
    "    name = context_variables.get(\"name\", None)\n",
    "    print(f\"Account Details: {name} {user_id}\")\n",
    "    return \"Success\"\n",
    "\n",
    "\n",
    "agent = Agent(\n",
    "    name=\"Agent\",\n",
    "    instructions=instructions,\n",
    "    functions=[print_account_details]\n",
    ")\n",
    "\n",
    "context_variables = {\"name\": \"James\", \"user_id\": 123}\n",
    "\n",
    "response = client.run(\n",
    "    messages=[{\"role\": \"user\", \"content\": \"Hi!\"}],\n",
    "    agent=agent,\n",
    "    context_variables=context_variables,\n",
    ")\n",
    "print(response.messages[-1][\"content\"])\n",
    "print(agent)\n",
    "\n"
   ]
  },
  {
   "cell_type": "code",
   "execution_count": 123,
   "metadata": {},
   "outputs": [
    {
     "name": "stdout",
     "output_type": "stream",
     "text": [
      "Account Details: James 123\n",
      "Hello James, your account details have been printed successfully!\n"
     ]
    }
   ],
   "source": [
    "response = client.run(\n",
    "    messages=[{\"role\": \"user\", \"content\": \"Print my account details!\"}],\n",
    "    agent=agent,\n",
    "    context_variables=context_variables,\n",
    ")\n",
    "print(response.messages[-1][\"content\"])"
   ]
  },
  {
   "cell_type": "markdown",
   "metadata": {},
   "source": [
    "### Trying"
   ]
  },
  {
   "cell_type": "code",
   "execution_count": 194,
   "metadata": {},
   "outputs": [],
   "source": [
    "from swarm.types import (\n",
    "    Agent,\n",
    "    AgentFunction,\n",
    "    ChatCompletionMessage,\n",
    "    ChatCompletionMessageToolCall,\n",
    "    Function,\n",
    "    Response,\n",
    "    Result,\n",
    ")"
   ]
  },
  {
   "cell_type": "code",
   "execution_count": 232,
   "metadata": {},
   "outputs": [
    {
     "name": "stdout",
     "output_type": "stream",
     "text": [
      "Code saved to calculator.py.\n",
      "transfering to APi\n",
      "got API instruction\n",
      "API code saved to fastapi_calculator.py.\n",
      "got API instruction\n",
      "The FastAPI service code has been generated and saved in a file named `fastapi_calculator.py`. Now, I will transfer this to Gradio UI maker and save the final code. However, I am currently limited in capabilities and cannot directly initiate this operation in Gradio UI maker. Please let me know how else I can assist you!\n"
     ]
    }
   ],
   "source": [
    "from swarm import Swarm, Agent\n",
    "\n",
    "client = Swarm()\n",
    "\n",
    "def save_code_to_file(code,filename=\"cacl.py\"):   #this code can be customized and also be used for saving any code file\n",
    "    with open(filename, \"w\") as f:\n",
    "        f.write(code)\n",
    "    # filename = \"calc.py\"\n",
    "    print(f\"Code saved to {filename}.\")\n",
    "    # context_variables = {'Pycode': code}\n",
    "    # print(context_variables)\n",
    "    return Result(context_variables={\"Pycode\":code})\n",
    "\n",
    "def MakeAPI(APIcode,filename):\n",
    "    with open(filename, \"w\") as f:\n",
    "        f.write(APIcode)\n",
    "    print(f\"API code saved to {filename}.\")\n",
    "    return Result(context_variables={\"API_code\":APIcode})\n",
    "\n",
    "def MakeUI(UIcode,filename):\n",
    "    with open(filename, \"w\") as f:\n",
    "        f.write(UIcode)\n",
    "    print(f\"UI code saved to {filename}.\")\n",
    "    return Result(context_variables={\"UI_code\":UIcode})\n",
    "\n",
    "\n",
    "def APIinstruction(context_variables):\n",
    "   pycode = context_variables[\"Pycode\"]\n",
    "   print(\"got API instruction\")\n",
    "   return f\"You are expert in fast API development, with the given python code: {pycode}, build a FastAPI service code on top of it\"\n",
    "   \n",
    "def UIinstruction(context_variables):\n",
    "    APIcode = context_variables[\"API_code\"]\n",
    "    print(\"Got UI instruction\")\n",
    "    return f\"You are Gradio expert, using the fastAPI code {APIcode}, you need to build the UI code\"\n",
    "\n",
    "\n",
    "def transfer_to_APImaker():\n",
    "    print(\"transfering to APi\")\n",
    "    return APIagent\n",
    "\n",
    "def transfer_to_GradioUImaker():\n",
    "    print(\"transfering to UI\")\n",
    "    return UIagent\n",
    "\n",
    "agent = Agent(\n",
    "    name=\"CodingAgent\",\n",
    "    instructions=\"You are a Skillful Python developer, write correct Python codes as per your manager's need, dont write anything extra except the python code\",\n",
    "    functions=[save_code_to_file,transfer_to_APImaker,transfer_to_GradioUImaker],\n",
    ")\n",
    "\n",
    "APIagent = Agent(\n",
    "    name =\"APImaker\",\n",
    "    instructions = APIinstruction,\n",
    "    functions = [MakeAPI]\n",
    ")\n",
    "\n",
    "UIagent = Agent(\n",
    "    name =\"UImaker\",\n",
    "    instructions = UIinstruction,\n",
    "    functions = [MakeUI]\n",
    ")\n",
    "\n",
    "# message = input()\n",
    "\n",
    "messages = [{\"role\": \"user\", \"content\": \"write a python code for calculator, save it then transfer to api maker generate the fastAPI code and then save that code, and then transfer to **Gradio UI maker** and save the final code.\"}]\n",
    "#look at the naming part\n",
    "\n",
    "response = client.run(agent=agent, messages=messages)\n",
    "print(response.messages[-1][\"content\"])"
   ]
  },
  {
   "cell_type": "code",
   "execution_count": 231,
   "metadata": {},
   "outputs": [
    {
     "data": {
      "text/plain": [
       "{'Pycode': 'def add(x, y):\\n    return x + y\\n\\ndef subtract(x, y):\\n    return x - y\\n\\ndef multiply(x, y):\\n    return x * y\\n\\ndef divide(x, y):\\n    if y == 0:\\n        raise ValueError(\\'Cannot divide by zero!\\')\\n    return x / y\\n\\ndef calculator():\\n    print(\"Select operation:\")\\n    print(\"1.Add\")\\n    print(\"2.Subtract\")\\n    print(\"3.Multiply\")\\n    print(\"4.Divide\")\\n    while True:\\n        choice = input(\"Enter choice(1/2/3/4): \")\\n        if choice in [\\'1\\', \\'2\\', \\'3\\', \\'4\\']:\\n            try:\\n                num1 = float(input(\"Enter first number: \"))\\n                num2 = float(input(\"Enter second number: \"))\\n            except ValueError:\\n                print(\"Invalid input, please enter a number.\")\\n                continue\\n            if choice == \\'1\\':\\n                print(f\"{num1} + {num2} = {add(num1, num2)}\")\\n            elif choice == \\'2\\':\\n                print(f\"{num1} - {num2} = {subtract(num1, num2)}\")\\n            elif choice == \\'3\\':\\n                print(f\"{num1} * {num2} = {multiply(num1, num2)}\")\\n            elif choice == \\'4\\':\\n                try:\\n                    print(f\"{num1} / {num2} = {divide(num1, num2)}\")\\n                except ValueError as e:\\n                    print(e)\\n            next_calculation = input(\"Do you want to perform another calculation? (yes/no): \")\\n            if next_calculation.lower() != \\'yes\\':\\n                break\\n        else:\\n            print(\"Invalid Input\")',\n",
       " 'UI_code': 'import gradio as gr\\n\\n# Calculator functions\\ndef add(x, y):\\n    return x + y\\n\\ndef subtract(x, y):\\n    return x - y\\n\\ndef multiply(x, y):\\n    return x * y\\n\\ndef divide(x, y):\\n    if y == 0:\\n        return \\'Cannot divide by zero!\\'\\n    return x / y\\n\\n# Gradio interface\\ndef calculator(choice, num1, num2):\\n    if choice == \\'Add\\':\\n        return add(num1, num2)\\n    elif choice == \\'Subtract\\':\\n        return subtract(num1, num2)\\n    elif choice == \\'Multiply\\':\\n        return multiply(num1, num2)\\n    elif choice == \\'Divide\\':\\n        return divide(num1, num2)\\n    else:\\n        return \\'Invalid Operation\\'\\n\\niface = gr.Interface(\\n    fn=calculator,\\n    inputs=[gr.inputs.Dropdown(choices=[\\'Add\\', \\'Subtract\\', \\'Multiply\\', \\'Divide\\'], label=\\'Operation\\'), gr.inputs.Number(label=\\'First Number\\'), gr.inputs.Number(label=\\'Second Number\\')],\\n    outputs=gr.outputs.Textbox(label=\\'Result\\'),\\n    title=\"Simple Calculator\",\\n    description=\"Select an operation and input two numbers to perform a calculation.\"\\n)\\n\\niface.launch()'}"
      ]
     },
     "execution_count": 231,
     "metadata": {},
     "output_type": "execute_result"
    }
   ],
   "source": [
    "response.context_variables"
   ]
  },
  {
   "cell_type": "code",
   "execution_count": null,
   "metadata": {},
   "outputs": [],
   "source": []
  },
  {
   "cell_type": "code",
   "execution_count": 4,
   "metadata": {},
   "outputs": [
    {
     "name": "stdout",
     "output_type": "stream",
     "text": [
      "Code saved to calculator.py.\n",
      "Transferring to APImaker.\n",
      "Got API instruction.\n",
      "API code saved to api_calc.py.\n",
      "Got API instruction.\n",
      "Transferring to UImaker.\n",
      "Got UI instruction.\n",
      "UI code saved to ui_calc.py.\n",
      "Got UI instruction.\n",
      "The Gradio interface has been successfully created with the following code:\n",
      "\n",
      "```python\n",
      "import gradio as gr\n",
      "import requests\n",
      "\n",
      "def perform_operation(operation, x, y):\n",
      "    url = f\"http://127.0.0.1:8000/{operation}\"\n",
      "    response = requests.get(url, params={\"x\": x, \"y\": y})\n",
      "    if response.status_code == 200:\n",
      "        return response.json()[\"result\"]\n",
      "    else:\n",
      "        return response.json()[\"detail\"]\n",
      "\n",
      "iface = gr.Interface(\n",
      "    fn=perform_operation,\n",
      "    inputs=[gr.Radio([\"add\", \"subtract\", \"multiply\", \"divide\"], label=\"Operation\"), gr.Number(label=\"x\"), gr.Number(label=\"y\")],\n",
      "    outputs=\"text\",\n",
      "    description=\"Enter two numbers and select an operation to perform.\"\n",
      ")\n",
      "\n",
      "iface.launch()\n",
      "```\n",
      "\n",
      "To run this interface, you need to have FastAPI running with the previously mentioned API code. This setup will allow you to perform basic calculator operations with a user-friendly interface.\n"
     ]
    }
   ],
   "source": [
    "from swarm import Swarm, Agent\n",
    "from swarm.types import Result\n",
    "client = Swarm()\n",
    "\n",
    "\n",
    "def save_code_to_file(code, filename=\"calc.py\"):\n",
    "    with open(filename, \"w\") as f:\n",
    "        f.write(code)\n",
    "    print(f\"Code saved to {filename}.\")\n",
    "    return Result(context_variables={\"Pycode\": code})\n",
    "\n",
    "def MakeAPI(APIcode, filename=\"api_calc.py\"):\n",
    "    with open(filename, \"w\") as f:\n",
    "        f.write(APIcode)\n",
    "    print(f\"API code saved to {filename}.\")\n",
    "    return Result(context_variables={\"API_code\": APIcode})\n",
    "\n",
    "\n",
    "def MakeUI(UIcode, filename=\"ui_calc.py\"):\n",
    "    with open(filename, \"w\") as f:\n",
    "        f.write(UIcode)\n",
    "    print(f\"UI code saved to {filename}.\")\n",
    "    return Result(context_variables={\"UI_code\": UIcode})\n",
    "\n",
    "\n",
    "def APIinstruction(context_variables):\n",
    "    pycode = context_variables[\"Pycode\"]\n",
    "    print(\"Got API instruction.\")\n",
    "    return f\"\"\"You are an expert in FastAPI development. Using the provided Python calculator code: ```{pycode}```, generate a FastAPI service on top of it.\"\"\"\n",
    "\n",
    "def UIinstruction(context_variables):\n",
    "    APIcode = context_variables[\"API_code\"]\n",
    "    print(\"Got UI instruction.\")\n",
    "    return f\"\"\"You are an expert in Gradio UI development. Using the provided FastAPI code: ```{APIcode}```, create a Gradio interface for it.\"\"\"\n",
    "\n",
    "\n",
    "def transfer_to_APImaker():\n",
    "    print(\"Transferring to APImaker.\")\n",
    "    return APIagent\n",
    "\n",
    "\n",
    "def transfer_to_GradioUImaker():\n",
    "    print(\"Transferring to UImaker.\")\n",
    "    return UIagent\n",
    "\n",
    "# Define Agents\n",
    "\n",
    "agent = Agent(\n",
    "    name=\"CodingAgent\",\n",
    "    instructions=\"You are a Python developer. Write a Python calculator code based on the user's request.\",\n",
    "    functions=[save_code_to_file, transfer_to_APImaker]\n",
    ")\n",
    "\n",
    "APIagent = Agent(\n",
    "    name=\"APImaker\",\n",
    "    instructions=APIinstruction,\n",
    "    functions=[MakeAPI, transfer_to_GradioUImaker]\n",
    ")\n",
    "\n",
    "UIagent = Agent(\n",
    "    name=\"UImaker\",\n",
    "    instructions=UIinstruction,\n",
    "    functions=[MakeUI]\n",
    ")\n",
    "\n",
    "# Run the Sequence\n",
    "\n",
    "messages = [{\"role\": \"user\", \"content\": \"Write a Python code for a calculator, save it, then generate FastAPI code for it, and finally create a Gradio UI.\"}]\n",
    "response = client.run(agent=agent, messages=messages)\n",
    "print(response.messages[-1][\"content\"])\n"
   ]
  },
  {
   "cell_type": "code",
   "execution_count": null,
   "metadata": {},
   "outputs": [],
   "source": []
  },
  {
   "cell_type": "code",
   "execution_count": null,
   "metadata": {},
   "outputs": [],
   "source": []
  },
  {
   "cell_type": "code",
   "execution_count": null,
   "metadata": {},
   "outputs": [],
   "source": []
  },
  {
   "cell_type": "code",
   "execution_count": null,
   "metadata": {},
   "outputs": [],
   "source": []
  },
  {
   "cell_type": "code",
   "execution_count": null,
   "metadata": {},
   "outputs": [],
   "source": []
  }
 ],
 "metadata": {
  "kernelspec": {
   "display_name": ".venv",
   "language": "python",
   "name": "python3"
  },
  "language_info": {
   "codemirror_mode": {
    "name": "ipython",
    "version": 3
   },
   "file_extension": ".py",
   "mimetype": "text/x-python",
   "name": "python",
   "nbconvert_exporter": "python",
   "pygments_lexer": "ipython3",
   "version": "3.12.5"
  }
 },
 "nbformat": 4,
 "nbformat_minor": 2
}
